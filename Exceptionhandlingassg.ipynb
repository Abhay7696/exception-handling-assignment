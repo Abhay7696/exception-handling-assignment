{
 "cells": [
  {
   "cell_type": "code",
   "execution_count": null,
   "id": "afa28515-ae1a-4d49-b147-32063747c414",
   "metadata": {},
   "outputs": [],
   "source": [
    "Q1. Wht is an Exception in pthon? Write the difference between Exceptionnd & syntex error."
   ]
  },
  {
   "cell_type": "code",
   "execution_count": null,
   "id": "60f4d821-fe7c-4a34-8a00-11168c75e15c",
   "metadata": {},
   "outputs": [],
   "source": [
    "An error is an issue in a program that prevents the program from completing its task. In comparison, an exception is a condition that interrupts the normal flow of the program. Both errors and exceptions are a type of runtime error, which means they occur during the execution of a program."
   ]
  },
  {
   "cell_type": "code",
   "execution_count": null,
   "id": "c8c9ea03-dbd7-4f60-8717-e4e287b6ac99",
   "metadata": {},
   "outputs": [],
   "source": [
    "Q2. Wht hppens when n exception is not handled? Explain with an exmple"
   ]
  },
  {
   "cell_type": "code",
   "execution_count": null,
   "id": "1c8be580-7a26-44b8-960f-7606d3768030",
   "metadata": {},
   "outputs": [],
   "source": [
    "If the assertion fails, Python uses ArgumentExpression as the argument for the AssertionError. AssertionError exceptions can be caught and handled like any other exception using the try-except statement, but if not handled, they will terminate the program and produce a traceback."
   ]
  },
  {
   "cell_type": "code",
   "execution_count": null,
   "id": "76d5cf5e-2d00-4fc5-b88d-d69a29d554c1",
   "metadata": {},
   "outputs": [],
   "source": [
    "Q3. Which phython statement are used to catch and handle exception? Explain with example"
   ]
  },
  {
   "cell_type": "code",
   "execution_count": null,
   "id": "ee17ae0c-b6f1-4765-87b1-ae54211a2695",
   "metadata": {},
   "outputs": [],
   "source": [
    "The try and except block in Python is used to catch and handle exceptions. Python executes code following the try statement as a “normal” part of the program. The code that follows the except statement is the program's response to any exceptions in the preceding try clause"
   ]
  },
  {
   "cell_type": "code",
   "execution_count": null,
   "id": "6e1e8641-28e5-4a86-82ae-a7bf915a1b96",
   "metadata": {},
   "outputs": [],
   "source": [
    "Q4.what are custom exception in phython ? why do we need custom exception?"
   ]
  },
  {
   "cell_type": "code",
   "execution_count": null,
   "id": "891bc315-ab15-4379-b690-ffd9c6012532",
   "metadata": {},
   "outputs": [],
   "source": [
    "\n",
    "In Python, we can define custom exceptions by creating a new class that is derived from the built-in Exception class. Here's the syntax to define custom exceptions, class CustomError(Exception): ... pass try: ... except CustomError: ...\n",
    "Built-in exceptions offer information about Python-related problems, and custom exceptions will add information about project-related problems. That way, you can design your code (and traceback, if an exception is raised) in a way that combines Python code with the language of the project"
   ]
  },
  {
   "cell_type": "code",
   "execution_count": null,
   "id": "4e9a1384-7f82-4404-a79f-287914465663",
   "metadata": {},
   "outputs": [],
   "source": [
    "Q5. create a custom exception class . use this class and handle the exception."
   ]
  },
  {
   "cell_type": "code",
   "execution_count": null,
   "id": "4fcfd986-7762-4e18-88d6-f79b1750a6af",
   "metadata": {},
   "outputs": [],
   "source": [
    "# define Python user-defined exceptions\n",
    "class InvalidAgeException(Exception):\n",
    "    \"Raised when the input value is less than 18\"\n",
    "    pass\n",
    "\n",
    "# you need to guess this number\n",
    "number = 18\n",
    "\n",
    "try:\n",
    "    input_num = int(input(\"Enter a number: \"))\n",
    "    if input_num < number:\n",
    "        raise InvalidAgeException\n",
    "    else:\n",
    "        print(\"Eligible to Vote\")\n",
    "        \n",
    "except InvalidAgeException:\n",
    "    print(\"Exception occurred: Invalid Age\")"
   ]
  }
 ],
 "metadata": {
  "kernelspec": {
   "display_name": "Python 3 (ipykernel)",
   "language": "python",
   "name": "python3"
  },
  "language_info": {
   "codemirror_mode": {
    "name": "ipython",
    "version": 3
   },
   "file_extension": ".py",
   "mimetype": "text/x-python",
   "name": "python",
   "nbconvert_exporter": "python",
   "pygments_lexer": "ipython3",
   "version": "3.10.8"
  },
  "toc-autonumbering": true
 },
 "nbformat": 4,
 "nbformat_minor": 5
}
